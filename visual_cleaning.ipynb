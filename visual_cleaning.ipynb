{
 "cells": [
  {
   "cell_type": "code",
   "execution_count": 1,
   "metadata": {},
   "outputs": [],
   "source": [
    "import pandas as pd\n",
    "import numpy as np\n",
    "import seaborn as sns\n",
    "import pickle\n",
    "import matplotlib.pyplot as plt\n",
    "import matplotlib.mlab as mlab\n",
    "import matplotlib\n",
    "plt.style.use('ggplot')\n",
    "\n",
    "from matplotlib.pyplot import figure\n",
    "%matplotlib inline\n",
    "matplotlib.rcParams['figure.figsize'] = (20, 20)  # (12,8)\n",
    "\n",
    "pd.options.mode.chained_assignment = None\n",
    "pd.set_option('display.max_columns', None)"
   ]
  },
  {
   "cell_type": "code",
   "execution_count": 2,
   "metadata": {},
   "outputs": [],
   "source": [
    "\n",
    "# all info with articles from the 2019.10.01 up to 2020.04.21\n",
    "list_of_paths = [\n",
    "    'data/oct_2019_1102_1001.pickle',\n",
    "    'data/nov_2019_1202_1101.pickle',\n",
    "    'data/dec_2020_0102_1201.pickle',\n",
    "    'data/jan_2020_0202_0101.pickle',\n",
    "    'data/feb_2020_0302_0201.pickle',\n",
    "    'data/mar_2020_0401_0301.pickle',\n",
    "    'data/apr_2020_0421_0330.pickle',\n",
    "]\n",
    "\n",
    "# The date format '2019_1102_1001' means:\n",
    "# 2019 is a year, 1102 is 11th month and 2 day, 1001 is 10th month and 1 day\n",
    "# So 1102 was the top date, 1001 was the bottom date,\n",
    "# the info was saved from the top date to the bottom date.\n",
    "# So everything from 10.01 up to 11.02 was saved as 1 october file."
   ]
  },
  {
   "cell_type": "code",
   "execution_count": 3,
   "metadata": {},
   "outputs": [
    {
     "output_type": "stream",
     "name": "stdout",
     "text": "timestamp                                              title  \\\n0      1572641980  Устроивший взрывы в двух мечетях на севере Лив...   \n1      1572641796  Лавров: США сами доказали, что доллар - ненаде...   \n2      1572641774  Футбольный матч \"Торпедо\" - \"СКА-Хабаровск\" пе...   \n3      1572641660  Лавров: Россия никогда не прекратит бороться з...   \n4      1572641500  Лавров: Россия и Китай не будут заключать воен...   \n...           ...                                                ...   \n71395  1585516117  Медведев: покидать квартиру или дачу в нерабоч...   \n71396  1585516064  Медведев не исключил принятия в России более ж...   \n71397  1585515997  Автоконцерны приостанавливают производство маш...   \n71398  1585515789  Неделя в России будет нерабочей из-за коронави...   \n71399  1585515738  Самолет со сработавшим датчиком отказа двигате...   \n\n                 category                     href    date_ymd  date_hms  \\\n0                Общество      /obschestvo/7073248  2019-11-01  23:59:40   \n1      Экономика и бизнес       /ekonomika/7073237  2019-11-01  23:56:36   \n2                   Спорт           /sport/7073263  2019-11-01  23:56:14   \n3                Политика        /politika/7073255  2019-11-01  23:54:20   \n4                Политика        /politika/7073232  2019-11-01  23:51:40   \n...                   ...                      ...         ...       ...   \n71395            Политика        /politika/8110791  2020-03-30  00:08:37   \n71396            Общество      /obschestvo/8110775  2020-03-30  00:07:44   \n71397  Экономика и бизнес       /ekonomika/8110729  2020-03-30  00:06:37   \n71398            Общество      /obschestvo/8110717  2020-03-30  00:03:09   \n71399        Происшествия  /proisshestviya/8110653  2020-03-30  00:02:18   \n\n                 date_full  is_breaking_news  \\\n0      2019-11-01 23:59:40             False   \n1      2019-11-01 23:56:36             False   \n2      2019-11-01 23:56:14             False   \n3      2019-11-01 23:54:20             False   \n4      2019-11-01 23:51:40             False   \n...                    ...               ...   \n71395  2020-03-30 00:08:37             False   \n71396  2020-03-30 00:07:44             False   \n71397  2020-03-30 00:06:37             False   \n71398  2020-03-30 00:03:09             False   \n71399  2020-03-30 00:02:18             False   \n\n                                            article_text  \n0      \\nБЕЙРУТ, 1 ноября. /ТАСС/. Ливанский суд приг...  \n1      \\nМОСКВА, 1 ноября. /ТАСС/. США бездумным испо...  \n2      \\nТАСС, 1 ноября. Проведение встречи 21-го тур...  \n3      \\nМОСКВА, 1 ноября. /ТАСС/. Россия никогда не ...  \n4      \\nМОСКВА, 1 ноября. /ТАСС/. Отношения между Ро...  \n...                                                  ...  \n71395  \\nМОСКВА, 30 марта. /ТАСС/. Нерабочая неделя н...  \n71396  \\nМОСКВА, 30 марта. /ТАСС/. Заместитель предсе...  \n71397  \\nМОСКВА, 30 марта. /ТАСС/. Автопроизводители ...  \n71398  \\nМОСКВА, 30 марта. /ТАСС/. Нерабочая неделя н...  \n71399  \\nМОСКВА, 29 марта. /ТАСС/. Пассажирский Boein...  \n\n[71400 rows x 9 columns]\n"
    }
   ],
   "source": [
    "# with open('data/apr_2020_0421_0330.pickle', 'rb') as f:\n",
    "#     data = pickle.load(f)\n",
    "# df = pd.DataFrame(data)\n",
    "\n",
    "list_of_df = []\n",
    "for i, path in enumerate(list_of_paths):\n",
    "    with open(path, 'rb') as f:\n",
    "        data = pickle.load(f)\n",
    "    list_of_df.append(pd.DataFrame(data))\n",
    "\n",
    "df = pd.concat(list_of_df, ignore_index=True)\n",
    "# df.head(100).to_csv('df_head_100.csv')\n",
    "\n",
    "# print(df.head())\n",
    "print(df)"
   ]
  },
  {
   "cell_type": "code",
   "execution_count": 4,
   "metadata": {},
   "outputs": [
    {
     "output_type": "stream",
     "name": "stdout",
     "text": "(71400, 9)\ntimestamp            int64\ntitle               object\ncategory            object\nhref                object\ndate_ymd            object\ndate_hms            object\ndate_full           object\nis_breaking_news      bool\narticle_text        object\ndtype: object\n['timestamp']\n['title' 'category' 'href' 'date_ymd' 'date_hms' 'date_full'\n 'is_breaking_news' 'article_text']\n"
    }
   ],
   "source": [
    "print(df.shape)\n",
    "print(df.dtypes)\n",
    "\n",
    "df_numeric = df.select_dtypes(include=[np.number])\n",
    "numeric_cols = df_numeric.columns.values\n",
    "print(numeric_cols)\n",
    "\n",
    "df_non_numeric = df.select_dtypes(exclude=[np.number])\n",
    "non_numeric_cols = df_non_numeric.columns.values\n",
    "print(non_numeric_cols)"
   ]
  },
  {
   "cell_type": "code",
   "execution_count": 5,
   "metadata": {},
   "outputs": [],
   "source": [
    "# would not recommend to show off that large df, check the 'output_images/' folder instead\n",
    "\n",
    "# cols = df.columns\n",
    "# colors = ['#b00b69', '#9e9e9e']\n",
    "# sns.heatmap(df[cols].isnull(), cmap=sns.color_palette(colors))"
   ]
  },
  {
   "cell_type": "code",
   "execution_count": 6,
   "metadata": {},
   "outputs": [
    {
     "output_type": "stream",
     "name": "stdout",
     "text": "(352, 9)\n"
    }
   ],
   "source": [
    "# get a df with only null articles\n",
    "\n",
    "df_of_only_null_articles = df.loc[pd.isnull(df).any(1),:]\n",
    "\n",
    "print(df_of_only_null_articles.shape)\n"
   ]
  },
  {
   "cell_type": "code",
   "execution_count": 7,
   "metadata": {},
   "outputs": [
    {
     "output_type": "stream",
     "name": "stdout",
     "text": "(71400, 9)\n(71048, 9)\n"
    }
   ],
   "source": [
    "# delete all items without an article\n",
    "print(df.shape)\n",
    "df = df[df.article_text.notnull()]\n",
    "print(df.shape)"
   ]
  },
  {
   "cell_type": "code",
   "execution_count": 8,
   "metadata": {},
   "outputs": [
    {
     "output_type": "stream",
     "name": "stdout",
     "text": "(68873, 9)\n"
    }
   ],
   "source": [
    "# delete all duplicates\n",
    "df = df.loc[~df.timestamp.duplicated(keep='first')]\n",
    "print(df.shape)"
   ]
  },
  {
   "cell_type": "code",
   "execution_count": 9,
   "metadata": {},
   "outputs": [
    {
     "output_type": "stream",
     "name": "stdout",
     "text": "(203,)\n"
    }
   ],
   "source": [
    "# show all unique days\n",
    "column_values = df[[\"date_ymd\"]].values.ravel()\n",
    "unique_values =  pd.unique(column_values)\n",
    "\n",
    "# print(unique_values) \n",
    "\n",
    "# btw there are 203 days:\n",
    "print(unique_values.shape)"
   ]
  },
  {
   "cell_type": "code",
   "execution_count": 10,
   "metadata": {},
   "outputs": [
    {
     "output_type": "stream",
     "name": "stdout",
     "text": "date_ymd\n2019-10-01    437\n2019-10-02    410\n2019-10-03    463\n2019-10-04    395\n2019-10-05    159\n             ... \n2020-04-16    405\n2020-04-17    429\n2020-04-18    170\n2020-04-19    138\n2020-04-20    330\nName: timestamp, Length: 203, dtype: int64\n\n110\ndate_ymd\n2019-11-24    110\nName: timestamp, dtype: int64\n577\ndate_ymd\n2020-03-12    577\nName: timestamp, dtype: int64\n"
    }
   ],
   "source": [
    "# for each unique day print the number of pieces of news\n",
    "\n",
    "df_of_articles_per_unique_day = df.groupby('date_ymd')['timestamp'].nunique()\n",
    "\n",
    "print(df_of_articles_per_unique_day)\n",
    "print()\n",
    "\n",
    "# min\n",
    "print(df_of_articles_per_unique_day.min())\n",
    "print(\n",
    "    df_of_articles_per_unique_day[\n",
    "        df_of_articles_per_unique_day == df_of_articles_per_unique_day.min()\n",
    "    ]\n",
    ")\n",
    "\n",
    "# max\n",
    "print(df_of_articles_per_unique_day.max())\n",
    "print(\n",
    "    df_of_articles_per_unique_day[\n",
    "        df_of_articles_per_unique_day == df_of_articles_per_unique_day.max()\n",
    "    ]\n",
    ")"
   ]
  },
  {
   "cell_type": "code",
   "execution_count": 11,
   "metadata": {},
   "outputs": [
    {
     "output_type": "stream",
     "name": "stdout",
     "text": "339.2758620689655\n339\n"
    }
   ],
   "source": [
    "# show the average number of articles per day\n",
    "\n",
    "print(df_of_articles_per_unique_day.mean())\n",
    "print(int(df_of_articles_per_unique_day.mean()))\n"
   ]
  },
  {
   "cell_type": "code",
   "execution_count": 12,
   "metadata": {},
   "outputs": [],
   "source": [
    "# save all data to csv\n",
    "\n",
    "# df.to_csv('data.csv')\n",
    "df.to_csv('data/cleared_data.csv')"
   ]
  }
 ],
 "metadata": {
  "language_info": {
   "codemirror_mode": {
    "name": "ipython",
    "version": 3
   },
   "file_extension": ".py",
   "mimetype": "text/x-python",
   "name": "python",
   "nbconvert_exporter": "python",
   "pygments_lexer": "ipython3",
   "version": "3.6.9-final"
  },
  "orig_nbformat": 2,
  "kernelspec": {
   "name": "python36964bitvenvvenv0b225db851564efba467f90fd1cf85aa",
   "display_name": "Python 3.6.9 64-bit ('venv': venv)"
  }
 },
 "nbformat": 4,
 "nbformat_minor": 2
}